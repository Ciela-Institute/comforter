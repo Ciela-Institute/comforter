{
 "cells": [
  {
   "cell_type": "code",
   "execution_count": null,
   "outputs": [],
   "source": [
    "import numpy as np\n",
    "import matplotlib.pyplot as plt\n",
    "from tarp import get_tarp_coverage"
   ],
   "metadata": {
    "collapsed": false,
    "pycharm": {
     "name": "#%%\n"
    }
   }
  },
  {
   "cell_type": "markdown",
   "source": [
    "First, we show how to use `get_tarp_coverage` (note that this function used to be called `get_drp_coverage` in a previous version)"
   ],
   "metadata": {
    "collapsed": false,
    "pycharm": {
     "name": "#%% md\n"
    }
   }
  },
  {
   "cell_type": "code",
   "execution_count": null,
   "outputs": [],
   "source": [
    "def generate_psd_matrix(n):\n",
    "    # generate random array of appropriate size\n",
    "    arr_size = int(n * (n - 1) / 2)\n",
    "    arr = np.random.rand(arr_size)\n",
    "\n",
    "    # convert array to symmetric matrix\n",
    "    mat = np.zeros((n, n))\n",
    "    triu_indices = np.triu_indices(n, k=1)\n",
    "    mat[triu_indices] = arr\n",
    "    mat += mat.T\n",
    "\n",
    "    # check if matrix is positive semidefinite\n",
    "    eigenvals = np.linalg.eigvalsh(mat)\n",
    "    if np.all(eigenvals >= 0):\n",
    "        return mat\n",
    "    else:\n",
    "        # if not, add identity matrix to make it PSD\n",
    "        mat = mat + np.eye(n) * abs(eigenvals.min()) * 2\n",
    "        return mat\n",
    "    \n",
    "\n",
    "def generate_correlated_samples(num_samples, num_sims, num_dims):\n",
    "    \"\"\" Generate samples and true parameter values \"\"\"\n",
    "    theta = np.random.uniform(low=-5, high=5, size=(num_sims, num_dims))\n",
    "    cov = [generate_psd_matrix(num_dims) for _ in range(num_sims)]\n",
    "    cov = np.concatenate(cov).reshape(num_sims, num_dims, num_dims)\n",
    "    samples = [np.random.multivariate_normal(mean=theta[i], cov=cov[i], size=num_samples) for i in range(num_sims)]\n",
    "    samples = np.stack(samples)\n",
    "    samples = samples.transpose(1, 0, 2)\n",
    "    theta = [np.random.multivariate_normal(mean=theta[i], cov=cov[i], size=1) for i in range(num_sims)]\n",
    "    theta = np.stack(theta)[:,0]\n",
    "    return samples, theta\n",
    "\n",
    "\n",
    "\"\"\" Main function \"\"\"\n",
    "samples, theta = generate_correlated_samples(num_samples=1000, num_sims=800, num_dims=10) # You can decrease the number of simulations for faster computation\n",
    "ecp, alpha = get_tarp_coverage(samples, theta, references='random', metric='euclidean', norm = True, seed = 5)\n",
    "\n",
    "fig, ax = plt.subplots(1, 1, figsize=(4, 4))\n",
    "\n",
    "ax.plot([0, 1], [0, 1], ls='--', color='k', label = \"Ideal case\")\n",
    "ax.plot(alpha, ecp, label='TARP')\n",
    "ax.legend()\n",
    "ax.set_ylabel(\"Expected Coverage\")\n",
    "ax.set_xlabel(\"Credibility Level\")\n",
    "\n",
    "plt.subplots_adjust(wspace=0.4)"
   ],
   "metadata": {
    "collapsed": false,
    "pycharm": {
     "name": "#%%\n"
    }
   }
  },
  {
   "cell_type": "markdown",
   "source": [
    "### Test bootstrapping:\n",
    "\n",
    "The new `bootstrapping` function is now implemented for `get_tarp_coverage`. This provides a method to offset the unpredictability of each tarp test. The function `get_tarp_coverage` now has a new argument `bootstrap` which is set to `False` by default. If set to `True`, the function will return the bootstrapped coverage for each credibility level. The function will return a 2D array of shape `(num_bootstraps, num_alpha)` where `num_alpha` is the number of credibility levels. The mean and standard deviation of the bootstrapped coverage can be computed using `ecp_bootstrap.mean(axis=0)` and `ecp_bootstrap.std(axis=0)` respectively."
   ],
   "metadata": {
    "collapsed": false,
    "pycharm": {
     "name": "#%% md\n"
    }
   }
  },
  {
   "cell_type": "code",
   "execution_count": null,
   "outputs": [],
   "source": [
    "# This might take some time...\n",
    "ecp_bootstrap, alpha_bootstrap = get_tarp_coverage(samples, theta, references = \"random\", metric = \"euclidean\", norm = True, bootstrap=True)"
   ],
   "metadata": {
    "collapsed": false,
    "pycharm": {
     "name": "#%%\n"
    }
   }
  },
  {
   "cell_type": "code",
   "execution_count": null,
   "outputs": [],
   "source": [
    "k_sigma = [1, 2, 3]\n",
    "\n",
    "fig, ax = plt.subplots(1, 1, figsize=(4, 4))\n",
    "ax.plot([0, 1], [0, 1], ls='--', color='k', label = \"Ideal case\")\n",
    "ax.plot(alpha, ecp_bootstrap.mean(axis=0), label='TARP')\n",
    "for k in k_sigma:\n",
    "    ax.fill_between(alpha, ecp_bootstrap.mean(axis=0) - k * ecp_bootstrap.std(axis=0), ecp_bootstrap.mean(axis=0) + k * ecp_bootstrap.std(axis=0), alpha = 0.2)\n",
    "ax.legend()\n",
    "ax.set_ylabel(\"Expected Coverage\")\n",
    "ax.set_xlabel(\"Credibility Level\")\n",
    "plt.show()"
   ],
   "metadata": {
    "collapsed": false,
    "pycharm": {
     "name": "#%%\n"
    }
   }
  },
  {
   "cell_type": "markdown",
   "source": [],
   "metadata": {
    "collapsed": false,
    "pycharm": {
     "name": "#%% md\n"
    }
   }
  },
  {
   "cell_type": "markdown",
   "source": [],
   "metadata": {
    "collapsed": false,
    "pycharm": {
     "name": "#%% md\n"
    }
   }
  }
 ],
 "metadata": {
  "kernelspec": {
   "display_name": "base",
   "language": "python",
   "name": "python3"
  },
  "language_info": {
   "codemirror_mode": {
    "name": "ipython",
    "version": 3
   },
   "file_extension": ".py",
   "mimetype": "text/x-python",
   "name": "python",
   "nbconvert_exporter": "python",
   "pygments_lexer": "ipython3",
   "version": "3.9.17"
  },
  "orig_nbformat": 4
 },
 "nbformat": 4,
 "nbformat_minor": 2
}